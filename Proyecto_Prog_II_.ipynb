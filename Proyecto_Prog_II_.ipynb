{
  "nbformat": 4,
  "nbformat_minor": 0,
  "metadata": {
    "colab": {
      "provenance": [],
      "include_colab_link": true
    },
    "kernelspec": {
      "name": "python3",
      "display_name": "Python 3"
    },
    "language_info": {
      "name": "python"
    }
  },
  "cells": [
    {
      "cell_type": "markdown",
      "metadata": {
        "id": "view-in-github",
        "colab_type": "text"
      },
      "source": [
        "<a href=\"https://colab.research.google.com/github/Santt89/Proyecto_datos_Netflix/blob/main/Proyecto_Prog_II_.ipynb\" target=\"_parent\"><img src=\"https://colab.research.google.com/assets/colab-badge.svg\" alt=\"Open In Colab\"/></a>"
      ]
    },
    {
      "cell_type": "markdown",
      "source": [
        "# **Proyecto final Prog II**"
      ],
      "metadata": {
        "id": "GAjmxAe5QFUQ"
      }
    },
    {
      "cell_type": "markdown",
      "source": [
        "\n",
        "\n",
        "Nombre Dataset usado: Netflix Movie and TV Shows (June 2021)\n",
        "\n",
        "Url: https://www.kaggle.com/datasets/snehaanbhawal/netflix-tv-shows-and-movie-list"
      ],
      "metadata": {
        "id": "bWiNmTyTlJKA"
      }
    },
    {
      "cell_type": "markdown",
      "source": [
        "# Que peliculas son las mas exitosas y porque? 🤔🤔"
      ],
      "metadata": {
        "id": "cxJ4Vqy4FQQR"
      }
    },
    {
      "cell_type": "markdown",
      "source": [
        "# Peliculas con mayor rating 📈\n",
        "**Porque tienen mayor rating?**\n",
        "\n",
        "Puede ser por los siguientes motivos:\n",
        "\n",
        "\n",
        "*    Porque actua un determinado actor \n",
        "*   Porque es de determinado genero\n",
        "*   Por el tiempo de duracion\n",
        "*   Por el año en el que salieron\n",
        "\n"
      ],
      "metadata": {
        "id": "VIOwr6a7GS9o"
      }
    },
    {
      "cell_type": "code",
      "source": [
        "#Importamos Pandas\n",
        "import pandas as pd"
      ],
      "metadata": {
        "id": "kNzbdVQIQCEp"
      },
      "execution_count": null,
      "outputs": []
    },
    {
      "cell_type": "code",
      "source": [
        "#Importamos matplotlib\n",
        "import matplotlib.pyplot as plt"
      ],
      "metadata": {
        "id": "4eckpZV5UbV4"
      },
      "execution_count": null,
      "outputs": []
    },
    {
      "cell_type": "code",
      "source": [
        "#Leemos el csv con el paquete pandas\n",
        "df = pd.read_csv('/content/netflix_list.csv')"
      ],
      "metadata": {
        "id": "bOYrd7BpNMGy"
      },
      "execution_count": null,
      "outputs": []
    },
    {
      "cell_type": "markdown",
      "source": [
        "Filtramos solo las peliculas del dataset y las que no tengan valores nulos en el rating y el tiempo de duracion."
      ],
      "metadata": {
        "id": "ji4y4WvSv5DN"
      }
    },
    {
      "cell_type": "code",
      "source": [
        "filtro = (df['type'] == 'movie')&(df['rating'].notnull())&(df['runtime'].notnull()&(df['runtime'] != '\\\\N'))\n",
        "\n",
        "#Aplicamos el filtro\n",
        "peliculas = df[filtro]"
      ],
      "metadata": {
        "id": "zP5JEoAmExY6"
      },
      "execution_count": null,
      "outputs": []
    },
    {
      "cell_type": "code",
      "source": [
        "#Como los numeros de duracion de las peliculas eran de tipo objeto los pasamos a flotantes para poder trabajarlos mejor.\n",
        "peliculas['runtime'] = peliculas['runtime'].astype(float, errors = 'raise')"
      ],
      "metadata": {
        "colab": {
          "base_uri": "https://localhost:8080/"
        },
        "id": "Kpy0-k8UcGy3",
        "outputId": "4d4c4b4e-e1bf-4d92-d97b-a8fa7192271e"
      },
      "execution_count": null,
      "outputs": [
        {
          "output_type": "stream",
          "name": "stderr",
          "text": [
            "<ipython-input-5-6d3743d60c5f>:2: SettingWithCopyWarning: \n",
            "A value is trying to be set on a copy of a slice from a DataFrame.\n",
            "Try using .loc[row_indexer,col_indexer] = value instead\n",
            "\n",
            "See the caveats in the documentation: https://pandas.pydata.org/pandas-docs/stable/user_guide/indexing.html#returning-a-view-versus-a-copy\n",
            "  peliculas['runtime'] = peliculas['runtime'].astype(float, errors = 'raise')\n"
          ]
        }
      ]
    },
    {
      "cell_type": "markdown",
      "source": [
        "El df a utilizar quedaria de la siguiente manera:"
      ],
      "metadata": {
        "id": "bFv-Ptuomhr5"
      }
    },
    {
      "cell_type": "code",
      "source": [
        "peliculas.head(3)"
      ],
      "metadata": {
        "colab": {
          "base_uri": "https://localhost:8080/",
          "height": 485
        },
        "id": "FnlxJSR4mktY",
        "outputId": "91957ae9-ff11-47fd-e4b0-53586fd91855"
      },
      "execution_count": null,
      "outputs": [
        {
          "output_type": "execute_result",
          "data": {
            "text/plain": [
              "      imdb_id                          title popular_rank certificate  \\\n",
              "1   tt0993840               Army of the Dead            2          18   \n",
              "15  tt6111574        The Woman in the Window           16          18   \n",
              "17  tt7979580  The Mitchells vs the Machines           18          13   \n",
              "\n",
              "    startYear  endYear  episodes  runtime   type  orign_country language  \\\n",
              "1      2021.0      NaN       NaN    148.0  movie  United States  English   \n",
              "15     2021.0      NaN       NaN    100.0  movie  United States  English   \n",
              "17     2021.0      NaN       NaN    113.0  movie  United States  English   \n",
              "\n",
              "                                                 plot  \\\n",
              "1   Following a zombie outbreak in Las Vegas, a gr...   \n",
              "15  An agoraphobic woman living alone in New York ...   \n",
              "17  A quirky, dysfunctional family's road trip is ...   \n",
              "\n",
              "                                              summary  rating  numVotes  \\\n",
              "1   With the abandoned, walled city of Las Vegas o...     5.8  110780.0   \n",
              "15  Living in denial, the depressed, pill-popping ...     5.7   46703.0   \n",
              "17  An animated action-comedy about an ordinary fa...     7.8   55762.0   \n",
              "\n",
              "                        genres  isAdult  \\\n",
              "1          Action,Crime,Horror        0   \n",
              "15         Crime,Drama,Mystery        0   \n",
              "17  Adventure,Animation,Comedy        0   \n",
              "\n",
              "                                                 cast  \\\n",
              "1   ['Dave Bautista', 'Ella Purnell', 'Ana de la R...   \n",
              "15  ['Amy Adams', 'Gary Oldman', 'Anthony Mackie',...   \n",
              "17  ['Abbi Jacobson', 'Danny McBride', 'Maya Rudol...   \n",
              "\n",
              "                                            image_url  \n",
              "1   https://m.media-amazon.com/images/M/MV5BNGY0Nz...  \n",
              "15  https://m.media-amazon.com/images/M/MV5BYmVlNW...  \n",
              "17  https://m.media-amazon.com/images/M/MV5BMjdkZj...  "
            ],
            "text/html": [
              "\n",
              "  <div id=\"df-154747b3-19d0-41a2-8175-6d39cd4257d7\">\n",
              "    <div class=\"colab-df-container\">\n",
              "      <div>\n",
              "<style scoped>\n",
              "    .dataframe tbody tr th:only-of-type {\n",
              "        vertical-align: middle;\n",
              "    }\n",
              "\n",
              "    .dataframe tbody tr th {\n",
              "        vertical-align: top;\n",
              "    }\n",
              "\n",
              "    .dataframe thead th {\n",
              "        text-align: right;\n",
              "    }\n",
              "</style>\n",
              "<table border=\"1\" class=\"dataframe\">\n",
              "  <thead>\n",
              "    <tr style=\"text-align: right;\">\n",
              "      <th></th>\n",
              "      <th>imdb_id</th>\n",
              "      <th>title</th>\n",
              "      <th>popular_rank</th>\n",
              "      <th>certificate</th>\n",
              "      <th>startYear</th>\n",
              "      <th>endYear</th>\n",
              "      <th>episodes</th>\n",
              "      <th>runtime</th>\n",
              "      <th>type</th>\n",
              "      <th>orign_country</th>\n",
              "      <th>language</th>\n",
              "      <th>plot</th>\n",
              "      <th>summary</th>\n",
              "      <th>rating</th>\n",
              "      <th>numVotes</th>\n",
              "      <th>genres</th>\n",
              "      <th>isAdult</th>\n",
              "      <th>cast</th>\n",
              "      <th>image_url</th>\n",
              "    </tr>\n",
              "  </thead>\n",
              "  <tbody>\n",
              "    <tr>\n",
              "      <th>1</th>\n",
              "      <td>tt0993840</td>\n",
              "      <td>Army of the Dead</td>\n",
              "      <td>2</td>\n",
              "      <td>18</td>\n",
              "      <td>2021.0</td>\n",
              "      <td>NaN</td>\n",
              "      <td>NaN</td>\n",
              "      <td>148.0</td>\n",
              "      <td>movie</td>\n",
              "      <td>United States</td>\n",
              "      <td>English</td>\n",
              "      <td>Following a zombie outbreak in Las Vegas, a gr...</td>\n",
              "      <td>With the abandoned, walled city of Las Vegas o...</td>\n",
              "      <td>5.8</td>\n",
              "      <td>110780.0</td>\n",
              "      <td>Action,Crime,Horror</td>\n",
              "      <td>0</td>\n",
              "      <td>['Dave Bautista', 'Ella Purnell', 'Ana de la R...</td>\n",
              "      <td>https://m.media-amazon.com/images/M/MV5BNGY0Nz...</td>\n",
              "    </tr>\n",
              "    <tr>\n",
              "      <th>15</th>\n",
              "      <td>tt6111574</td>\n",
              "      <td>The Woman in the Window</td>\n",
              "      <td>16</td>\n",
              "      <td>18</td>\n",
              "      <td>2021.0</td>\n",
              "      <td>NaN</td>\n",
              "      <td>NaN</td>\n",
              "      <td>100.0</td>\n",
              "      <td>movie</td>\n",
              "      <td>United States</td>\n",
              "      <td>English</td>\n",
              "      <td>An agoraphobic woman living alone in New York ...</td>\n",
              "      <td>Living in denial, the depressed, pill-popping ...</td>\n",
              "      <td>5.7</td>\n",
              "      <td>46703.0</td>\n",
              "      <td>Crime,Drama,Mystery</td>\n",
              "      <td>0</td>\n",
              "      <td>['Amy Adams', 'Gary Oldman', 'Anthony Mackie',...</td>\n",
              "      <td>https://m.media-amazon.com/images/M/MV5BYmVlNW...</td>\n",
              "    </tr>\n",
              "    <tr>\n",
              "      <th>17</th>\n",
              "      <td>tt7979580</td>\n",
              "      <td>The Mitchells vs the Machines</td>\n",
              "      <td>18</td>\n",
              "      <td>13</td>\n",
              "      <td>2021.0</td>\n",
              "      <td>NaN</td>\n",
              "      <td>NaN</td>\n",
              "      <td>113.0</td>\n",
              "      <td>movie</td>\n",
              "      <td>United States</td>\n",
              "      <td>English</td>\n",
              "      <td>A quirky, dysfunctional family's road trip is ...</td>\n",
              "      <td>An animated action-comedy about an ordinary fa...</td>\n",
              "      <td>7.8</td>\n",
              "      <td>55762.0</td>\n",
              "      <td>Adventure,Animation,Comedy</td>\n",
              "      <td>0</td>\n",
              "      <td>['Abbi Jacobson', 'Danny McBride', 'Maya Rudol...</td>\n",
              "      <td>https://m.media-amazon.com/images/M/MV5BMjdkZj...</td>\n",
              "    </tr>\n",
              "  </tbody>\n",
              "</table>\n",
              "</div>\n",
              "      <button class=\"colab-df-convert\" onclick=\"convertToInteractive('df-154747b3-19d0-41a2-8175-6d39cd4257d7')\"\n",
              "              title=\"Convert this dataframe to an interactive table.\"\n",
              "              style=\"display:none;\">\n",
              "        \n",
              "  <svg xmlns=\"http://www.w3.org/2000/svg\" height=\"24px\"viewBox=\"0 0 24 24\"\n",
              "       width=\"24px\">\n",
              "    <path d=\"M0 0h24v24H0V0z\" fill=\"none\"/>\n",
              "    <path d=\"M18.56 5.44l.94 2.06.94-2.06 2.06-.94-2.06-.94-.94-2.06-.94 2.06-2.06.94zm-11 1L8.5 8.5l.94-2.06 2.06-.94-2.06-.94L8.5 2.5l-.94 2.06-2.06.94zm10 10l.94 2.06.94-2.06 2.06-.94-2.06-.94-.94-2.06-.94 2.06-2.06.94z\"/><path d=\"M17.41 7.96l-1.37-1.37c-.4-.4-.92-.59-1.43-.59-.52 0-1.04.2-1.43.59L10.3 9.45l-7.72 7.72c-.78.78-.78 2.05 0 2.83L4 21.41c.39.39.9.59 1.41.59.51 0 1.02-.2 1.41-.59l7.78-7.78 2.81-2.81c.8-.78.8-2.07 0-2.86zM5.41 20L4 18.59l7.72-7.72 1.47 1.35L5.41 20z\"/>\n",
              "  </svg>\n",
              "      </button>\n",
              "      \n",
              "  <style>\n",
              "    .colab-df-container {\n",
              "      display:flex;\n",
              "      flex-wrap:wrap;\n",
              "      gap: 12px;\n",
              "    }\n",
              "\n",
              "    .colab-df-convert {\n",
              "      background-color: #E8F0FE;\n",
              "      border: none;\n",
              "      border-radius: 50%;\n",
              "      cursor: pointer;\n",
              "      display: none;\n",
              "      fill: #1967D2;\n",
              "      height: 32px;\n",
              "      padding: 0 0 0 0;\n",
              "      width: 32px;\n",
              "    }\n",
              "\n",
              "    .colab-df-convert:hover {\n",
              "      background-color: #E2EBFA;\n",
              "      box-shadow: 0px 1px 2px rgba(60, 64, 67, 0.3), 0px 1px 3px 1px rgba(60, 64, 67, 0.15);\n",
              "      fill: #174EA6;\n",
              "    }\n",
              "\n",
              "    [theme=dark] .colab-df-convert {\n",
              "      background-color: #3B4455;\n",
              "      fill: #D2E3FC;\n",
              "    }\n",
              "\n",
              "    [theme=dark] .colab-df-convert:hover {\n",
              "      background-color: #434B5C;\n",
              "      box-shadow: 0px 1px 3px 1px rgba(0, 0, 0, 0.15);\n",
              "      filter: drop-shadow(0px 1px 2px rgba(0, 0, 0, 0.3));\n",
              "      fill: #FFFFFF;\n",
              "    }\n",
              "  </style>\n",
              "\n",
              "      <script>\n",
              "        const buttonEl =\n",
              "          document.querySelector('#df-154747b3-19d0-41a2-8175-6d39cd4257d7 button.colab-df-convert');\n",
              "        buttonEl.style.display =\n",
              "          google.colab.kernel.accessAllowed ? 'block' : 'none';\n",
              "\n",
              "        async function convertToInteractive(key) {\n",
              "          const element = document.querySelector('#df-154747b3-19d0-41a2-8175-6d39cd4257d7');\n",
              "          const dataTable =\n",
              "            await google.colab.kernel.invokeFunction('convertToInteractive',\n",
              "                                                     [key], {});\n",
              "          if (!dataTable) return;\n",
              "\n",
              "          const docLinkHtml = 'Like what you see? Visit the ' +\n",
              "            '<a target=\"_blank\" href=https://colab.research.google.com/notebooks/data_table.ipynb>data table notebook</a>'\n",
              "            + ' to learn more about interactive tables.';\n",
              "          element.innerHTML = '';\n",
              "          dataTable['output_type'] = 'display_data';\n",
              "          await google.colab.output.renderOutput(dataTable, element);\n",
              "          const docLink = document.createElement('div');\n",
              "          docLink.innerHTML = docLinkHtml;\n",
              "          element.appendChild(docLink);\n",
              "        }\n",
              "      </script>\n",
              "    </div>\n",
              "  </div>\n",
              "  "
            ]
          },
          "metadata": {},
          "execution_count": 23
        }
      ]
    },
    {
      "cell_type": "markdown",
      "source": [
        "# Compararemos el promedio del rating de las peliculas por genero"
      ],
      "metadata": {
        "id": "b2qW4pTfz9e1"
      }
    },
    {
      "cell_type": "code",
      "source": [
        "peliculas['genres'].fillna(' ', inplace = True)\n",
        "\n",
        "comedia = peliculas[peliculas.genres.str.contains('Comedy')]\n",
        "accion = peliculas[peliculas.genres.str.contains('Action')]\n",
        "suspenso = peliculas[peliculas.genres.str.contains('Thriller')]\n",
        "aventura = peliculas[peliculas.genres.str.contains('Adventure')]\n",
        "drama = peliculas[peliculas.genres.str.contains('Drama')] \n",
        "animadas = peliculas[peliculas.genres.str.contains('Animation')] \n",
        "\n",
        "#Calculamos la media de rating de las peliculas segun su genero.\n",
        "media_rating_comedia = comedia['rating'].mean()\n",
        "media_rating_accion = accion['rating'].mean()\n",
        "media_rating_suspenso = suspenso['rating'].mean()\n",
        "media_rating_aventura = aventura['rating'].mean()\n",
        "media_rating_drama = drama['rating'].mean()\n",
        "media_rating_animadas = animadas['rating'].mean()\n",
        "\n",
        "generos = ['Comedia' , 'Accion' , 'Suspenso' , 'Aventura' , 'Drama' , ' Animadas']\n",
        "medias = [media_rating_comedia , media_rating_accion,media_rating_suspenso,media_rating_aventura,media_rating_drama, media_rating_animadas ]\n",
        "\n",
        "#Hacemos el grafico de barras\n",
        "fig, ax = plt.subplots()\n",
        "plt.bar(generos , medias , color=['blue','red','green','black','purple','blue'])\n",
        "plt.show()"
      ],
      "metadata": {
        "colab": {
          "base_uri": "https://localhost:8080/",
          "height": 352
        },
        "id": "6x8AkJ8awnI1",
        "outputId": "0670ad81-b5b7-449a-e9aa-8097a9c7966d"
      },
      "execution_count": null,
      "outputs": [
        {
          "output_type": "stream",
          "name": "stderr",
          "text": [
            "/usr/local/lib/python3.8/dist-packages/pandas/core/generic.py:6392: SettingWithCopyWarning: \n",
            "A value is trying to be set on a copy of a slice from a DataFrame\n",
            "\n",
            "See the caveats in the documentation: https://pandas.pydata.org/pandas-docs/stable/user_guide/indexing.html#returning-a-view-versus-a-copy\n",
            "  return self._update_inplace(result)\n"
          ]
        },
        {
          "output_type": "display_data",
          "data": {
            "text/plain": [
              "<Figure size 432x288 with 1 Axes>"
            ],
            "image/png": "[encoded data removed]"
          },
          "metadata": {
            "needs_background": "light"
          }
        }
      ]
    },
    {
      "cell_type": "markdown",
      "source": [
        "# Compararemos el promedio del rating de las peliculas que actue un actor famoso y otro no tan conocido.\n"
      ],
      "metadata": {
        "id": "egcDGvVywobD"
      }
    },
    {
      "cell_type": "markdown",
      "source": [
        "Como actor famoso seleccionaremos **Tom Holland**\n",
        "\n",
        "Como actor no tan conocido seleccionaremos **Hasan Abdulfattah**"
      ],
      "metadata": {
        "id": "YHatgfcexHEv"
      }
    },
    {
      "cell_type": "code",
      "source": [
        "#Almacenamos todos los cast de las peliculas en una variable\n",
        "cast = peliculas['cast']\n",
        "\n",
        "#Filtramos las peliculas en las que actua Tom Holland y Hasan Abdulfattah\n",
        "filtrado1 = cast.apply(lambda x: 'Tom Holland' in x)\n",
        "tom = peliculas[filtrado1]\n",
        "\n",
        "filtrado2 = cast.apply(lambda x: 'Hasan Abdulfattah' in x)\n",
        "hasan = peliculas[filtrado2]\n",
        "\n",
        "#Calculamos la media de rating de las peliculas en las que actua Tom Holland y Hasam Abdulfattah\n",
        "media_tom = tom['rating'].mean()\n",
        "\n",
        "media_hasan = hasan['rating'].mean()\n",
        "\n",
        "#Metemos los datos en dos listas distintas para poder hacer el grafico de barras\n",
        "actores = ['Tom Holland' , 'Hasan Abdulfattah']\n",
        "medias = [media_tom , media_hasan]\n",
        "\n",
        "#Hacemos el grafico de barras\n",
        "fig, ax = plt.subplots()\n",
        "plt.bar(actores , medias , color=['blue','yellow'])\n",
        "plt.show()\n",
        "\n"
      ],
      "metadata": {
        "colab": {
          "base_uri": "https://localhost:8080/",
          "height": 265
        },
        "id": "qARXvO-zwmYa",
        "outputId": "9305dc7f-f47d-4de7-b3c0-d5a267c9c0e4"
      },
      "execution_count": null,
      "outputs": [
        {
          "output_type": "display_data",
          "data": {
            "text/plain": [
              "<Figure size 432x288 with 1 Axes>"
            ],
            "image/png": "[encoded data removed]"
          },
          "metadata": {
            "needs_background": "light"
          }
        }
      ]
    },
    {
      "cell_type": "markdown",
      "source": [
        "# Analizaremos el rating segun el tiempo de duracion:"
      ],
      "metadata": {
        "id": "A0DZDn0vv8uJ"
      }
    },
    {
      "cell_type": "code",
      "source": [
        "#Para analizar el tiempo de duracion estableceremos ciertos parametros:\n",
        "\n",
        "#La pelicula es corta si dura menos de una hora y media (menos de 90 minutos)\n",
        "\n",
        "#La pelicula tiene una duracion media si dura entre una hora y media y dos horas y media. (entre 90 y 150 minutos)\n",
        "\n",
        "#la pelicula es larga si dura mas de 2hs y media. (mas de 150 minutos)\n",
        "\n",
        "\n",
        "filtro_corta = peliculas['runtime'] < 90\n",
        "filtro_media =  (peliculas['runtime'] > 90)&(peliculas['runtime'] < 150)\n",
        "filtro_larga = peliculas['runtime'] > 150\n",
        "\n",
        "\n",
        "cortas = peliculas[filtro_corta]['rating'].mean()\n",
        "media =  peliculas[filtro_media]['rating'].mean()\n",
        "largas =  peliculas[filtro_larga]['rating'].mean()\n",
        "\n",
        "\n",
        "etiquetas = ['Cortas' , 'Medias' , 'Largas']\n",
        "medias = [cortas, media , largas]\n",
        "\n",
        "#Hacemos el grafico de barras\n",
        "fig, ax = plt.subplots()\n",
        "plt.bar(etiquetas , medias , color=['b','r','g'])\n",
        "plt.show()\n",
        "\n"
      ],
      "metadata": {
        "id": "NPnPgtBmn9Hy",
        "colab": {
          "base_uri": "https://localhost:8080/",
          "height": 265
        },
        "outputId": "96c2d650-9eb5-446f-cbf9-566e335d8c7f"
      },
      "execution_count": null,
      "outputs": [
        {
          "output_type": "display_data",
          "data": {
            "text/plain": [
              "<Figure size 432x288 with 1 Axes>"
            ],
            "image/png": "[encoded data removed]"
          },
          "metadata": {
            "needs_background": "light"
          }
        }
      ]
    },
    {
      "cell_type": "code",
      "source": [
        "filtro_corta = peliculas['runtime'] < 90 #peliculas de menor duracion que 1hs y 30 min\n",
        "filtro_media =  ((peliculas['runtime'] > 120)&(peliculas['runtime'] < 150)) #peliculas entre 2hs y 2hs y 30 min\n",
        "filtro_larga = (peliculas['runtime'] > 180) #peliculas de mas de 3hs\n",
        "\n",
        "filtro_general = filtro_corta | filtro_media | filtro_larga\n",
        "\n",
        "filtradas = peliculas[filtro_general]\n",
        "\n",
        "\n",
        "filtradas.plot.scatter(x = 'runtime' , y = 'rating' , figsize = (8,8))"
      ],
      "metadata": {
        "colab": {
          "base_uri": "https://localhost:8080/",
          "height": 514
        },
        "id": "sqoYt8nf35mU",
        "outputId": "826f48e2-0e0e-4831-d568-e8e1abca0332"
      },
      "execution_count": null,
      "outputs": [
        {
          "output_type": "execute_result",
          "data": {
            "text/plain": [
              "<matplotlib.axes._subplots.AxesSubplot at 0x7f596dcd26d0>"
            ]
          },
          "metadata": {},
          "execution_count": 14
        },
        {
          "output_type": "display_data",
          "data": {
            "text/plain": [
              "<Figure size 576x576 with 1 Axes>"
            ],
            "image/png": "[encoded data removed]"
          },
          "metadata": {
            "needs_background": "light"
          }
        }
      ]
    },
    {
      "cell_type": "markdown",
      "source": [
        "# Comparamos el rating de las películas según el año en que salieron"
      ],
      "metadata": {
        "id": "ejfHwpELoM7R"
      }
    },
    {
      "cell_type": "code",
      "source": [
        "peliculas.plot.scatter(x = 'startYear' , y = 'rating' , figsize = (8,8))\n",
        "\n"
      ],
      "metadata": {
        "colab": {
          "base_uri": "https://localhost:8080/",
          "height": 514
        },
        "id": "Kin70Kr5nyNZ",
        "outputId": "ab12d661-e425-4ba8-8e64-114cd8a953bb"
      },
      "execution_count": null,
      "outputs": [
        {
          "output_type": "execute_result",
          "data": {
            "text/plain": [
              "<matplotlib.axes._subplots.AxesSubplot at 0x7f596b5982b0>"
            ]
          },
          "metadata": {},
          "execution_count": 19
        },
        {
          "output_type": "display_data",
          "data": {
            "text/plain": [
              "<Figure size 576x576 with 1 Axes>"
            ],
            "image/png": "[encoded data removed]"
          },
          "metadata": {
            "needs_background": "light"
          }
        }
      ]
    },
    {
      "cell_type": "code",
      "source": [
        "#Buscamos la pelicula con mas rating\n",
        "pelicula_con_rating_max = peliculas[\"rating\"].max()\n",
        "maxima = peliculas.loc[:,\"rating\"] == pelicula_con_rating_max\n",
        "peliculas[maxima]\n"
      ],
      "metadata": {
        "id": "UxV4v-NDlVwC",
        "outputId": "cbc3980f-8622-483b-8aff-60d71d07c9c3",
        "colab": {
          "base_uri": "https://localhost:8080/",
          "height": 232
        }
      },
      "execution_count": null,
      "outputs": [
        {
          "output_type": "execute_result",
          "data": {
            "text/plain": [
              "        imdb_id                   title popular_rank certificate  startYear  \\\n",
              "3636  tt2592910  CM101MMXI Fundamentals        3,665         NaN     2013.0   \n",
              "\n",
              "      endYear  episodes  runtime   type orign_country language  \\\n",
              "3636      NaN       NaN    139.0  movie        Turkey  Turkish   \n",
              "\n",
              "                                                   plot  \\\n",
              "3636  The funny little details of everyday life; the...   \n",
              "\n",
              "                                                summary  rating  numVotes  \\\n",
              "3636  The funny little details of everyday life; the...     9.2   44301.0   \n",
              "\n",
              "                  genres  isAdult            cast  \\\n",
              "3636  Comedy,Documentary        0  ['Cem Yilmaz']   \n",
              "\n",
              "                                              image_url  \n",
              "3636  https://m.media-amazon.com/images/M/MV5BMjE0Nj...  "
            ],
            "text/html": [
              "\n",
              "  <div id=\"df-8d65582a-e6a2-42ad-98b7-5b34ba6beda3\">\n",
              "    <div class=\"colab-df-container\">\n",
              "      <div>\n",
              "<style scoped>\n",
              "    .dataframe tbody tr th:only-of-type {\n",
              "        vertical-align: middle;\n",
              "    }\n",
              "\n",
              "    .dataframe tbody tr th {\n",
              "        vertical-align: top;\n",
              "    }\n",
              "\n",
              "    .dataframe thead th {\n",
              "        text-align: right;\n",
              "    }\n",
              "</style>\n",
              "<table border=\"1\" class=\"dataframe\">\n",
              "  <thead>\n",
              "    <tr style=\"text-align: right;\">\n",
              "      <th></th>\n",
              "      <th>imdb_id</th>\n",
              "      <th>title</th>\n",
              "      <th>popular_rank</th>\n",
              "      <th>certificate</th>\n",
              "      <th>startYear</th>\n",
              "      <th>endYear</th>\n",
              "      <th>episodes</th>\n",
              "      <th>runtime</th>\n",
              "      <th>type</th>\n",
              "      <th>orign_country</th>\n",
              "      <th>language</th>\n",
              "      <th>plot</th>\n",
              "      <th>summary</th>\n",
              "      <th>rating</th>\n",
              "      <th>numVotes</th>\n",
              "      <th>genres</th>\n",
              "      <th>isAdult</th>\n",
              "      <th>cast</th>\n",
              "      <th>image_url</th>\n",
              "    </tr>\n",
              "  </thead>\n",
              "  <tbody>\n",
              "    <tr>\n",
              "      <th>3636</th>\n",
              "      <td>tt2592910</td>\n",
              "      <td>CM101MMXI Fundamentals</td>\n",
              "      <td>3,665</td>\n",
              "      <td>NaN</td>\n",
              "      <td>2013.0</td>\n",
              "      <td>NaN</td>\n",
              "      <td>NaN</td>\n",
              "      <td>139.0</td>\n",
              "      <td>movie</td>\n",
              "      <td>Turkey</td>\n",
              "      <td>Turkish</td>\n",
              "      <td>The funny little details of everyday life; the...</td>\n",
              "      <td>The funny little details of everyday life; the...</td>\n",
              "      <td>9.2</td>\n",
              "      <td>44301.0</td>\n",
              "      <td>Comedy,Documentary</td>\n",
              "      <td>0</td>\n",
              "      <td>['Cem Yilmaz']</td>\n",
              "      <td>https://m.media-amazon.com/images/M/MV5BMjE0Nj...</td>\n",
              "    </tr>\n",
              "  </tbody>\n",
              "</table>\n",
              "</div>\n",
              "      <button class=\"colab-df-convert\" onclick=\"convertToInteractive('df-8d65582a-e6a2-42ad-98b7-5b34ba6beda3')\"\n",
              "              title=\"Convert this dataframe to an interactive table.\"\n",
              "              style=\"display:none;\">\n",
              "        \n",
              "  <svg xmlns=\"http://www.w3.org/2000/svg\" height=\"24px\"viewBox=\"0 0 24 24\"\n",
              "       width=\"24px\">\n",
              "    <path d=\"M0 0h24v24H0V0z\" fill=\"none\"/>\n",
              "    <path d=\"M18.56 5.44l.94 2.06.94-2.06 2.06-.94-2.06-.94-.94-2.06-.94 2.06-2.06.94zm-11 1L8.5 8.5l.94-2.06 2.06-.94-2.06-.94L8.5 2.5l-.94 2.06-2.06.94zm10 10l.94 2.06.94-2.06 2.06-.94-2.06-.94-.94-2.06-.94 2.06-2.06.94z\"/><path d=\"M17.41 7.96l-1.37-1.37c-.4-.4-.92-.59-1.43-.59-.52 0-1.04.2-1.43.59L10.3 9.45l-7.72 7.72c-.78.78-.78 2.05 0 2.83L4 21.41c.39.39.9.59 1.41.59.51 0 1.02-.2 1.41-.59l7.78-7.78 2.81-2.81c.8-.78.8-2.07 0-2.86zM5.41 20L4 18.59l7.72-7.72 1.47 1.35L5.41 20z\"/>\n",
              "  </svg>\n",
              "      </button>\n",
              "      \n",
              "  <style>\n",
              "    .colab-df-container {\n",
              "      display:flex;\n",
              "      flex-wrap:wrap;\n",
              "      gap: 12px;\n",
              "    }\n",
              "\n",
              "    .colab-df-convert {\n",
              "      background-color: #E8F0FE;\n",
              "      border: none;\n",
              "      border-radius: 50%;\n",
              "      cursor: pointer;\n",
              "      display: none;\n",
              "      fill: #1967D2;\n",
              "      height: 32px;\n",
              "      padding: 0 0 0 0;\n",
              "      width: 32px;\n",
              "    }\n",
              "\n",
              "    .colab-df-convert:hover {\n",
              "      background-color: #E2EBFA;\n",
              "      box-shadow: 0px 1px 2px rgba(60, 64, 67, 0.3), 0px 1px 3px 1px rgba(60, 64, 67, 0.15);\n",
              "      fill: #174EA6;\n",
              "    }\n",
              "\n",
              "    [theme=dark] .colab-df-convert {\n",
              "      background-color: #3B4455;\n",
              "      fill: #D2E3FC;\n",
              "    }\n",
              "\n",
              "    [theme=dark] .colab-df-convert:hover {\n",
              "      background-color: #434B5C;\n",
              "      box-shadow: 0px 1px 3px 1px rgba(0, 0, 0, 0.15);\n",
              "      filter: drop-shadow(0px 1px 2px rgba(0, 0, 0, 0.3));\n",
              "      fill: #FFFFFF;\n",
              "    }\n",
              "  </style>\n",
              "\n",
              "      <script>\n",
              "        const buttonEl =\n",
              "          document.querySelector('#df-8d65582a-e6a2-42ad-98b7-5b34ba6beda3 button.colab-df-convert');\n",
              "        buttonEl.style.display =\n",
              "          google.colab.kernel.accessAllowed ? 'block' : 'none';\n",
              "\n",
              "        async function convertToInteractive(key) {\n",
              "          const element = document.querySelector('#df-8d65582a-e6a2-42ad-98b7-5b34ba6beda3');\n",
              "          const dataTable =\n",
              "            await google.colab.kernel.invokeFunction('convertToInteractive',\n",
              "                                                     [key], {});\n",
              "          if (!dataTable) return;\n",
              "\n",
              "          const docLinkHtml = 'Like what you see? Visit the ' +\n",
              "            '<a target=\"_blank\" href=https://colab.research.google.com/notebooks/data_table.ipynb>data table notebook</a>'\n",
              "            + ' to learn more about interactive tables.';\n",
              "          element.innerHTML = '';\n",
              "          dataTable['output_type'] = 'display_data';\n",
              "          await google.colab.output.renderOutput(dataTable, element);\n",
              "          const docLink = document.createElement('div');\n",
              "          docLink.innerHTML = docLinkHtml;\n",
              "          element.appendChild(docLink);\n",
              "        }\n",
              "      </script>\n",
              "    </div>\n",
              "  </div>\n",
              "  "
            ]
          },
          "metadata": {},
          "execution_count": 24
        }
      ]
    },
    {
      "cell_type": "code",
      "source": [
        "#Buscamos la pelicula con menos rating\n",
        "pelicula_con_rating_min = peliculas[\"rating\"].min()\n",
        "minima = peliculas.loc[:,\"rating\"] == pelicula_con_rating_min\n",
        "peliculas[minima]\n"
      ],
      "metadata": {
        "colab": {
          "base_uri": "https://localhost:8080/",
          "height": 231
        },
        "id": "-wcFOqJ7laNw",
        "outputId": "5277e5c2-df50-4765-8cd1-eb2e48ffab0a"
      },
      "execution_count": null,
      "outputs": [
        {
          "output_type": "execute_result",
          "data": {
            "text/plain": [
              "        imdb_id        title popular_rank certificate  startYear  endYear  \\\n",
              "5647  tt1349646  Defcon 2012        5,698         NaN     2010.0      NaN   \n",
              "\n",
              "      episodes  runtime   type  orign_country language  \\\n",
              "5647       NaN     92.0  movie  United States  English   \n",
              "\n",
              "                                                   plot  \\\n",
              "5647  On October 30, 2009 an independent filmmaker a...   \n",
              "\n",
              "                                                summary  rating  numVotes  \\\n",
              "5647  On October 30, 2009 an independent filmmaker a...     1.7     362.0   \n",
              "\n",
              "      genres  isAdult                                               cast  \\\n",
              "5647  Sci-Fi        0  ['Shy Pilgreen', 'Dan Gruenberg', 'Brian Neil ...   \n",
              "\n",
              "                                              image_url  \n",
              "5647  https://m.media-amazon.com/images/M/MV5BMTg2NT...  "
            ],
            "text/html": [
              "\n",
              "  <div id=\"df-99c6793a-86b0-474f-85d0-c4f717bf2445\">\n",
              "    <div class=\"colab-df-container\">\n",
              "      <div>\n",
              "<style scoped>\n",
              "    .dataframe tbody tr th:only-of-type {\n",
              "        vertical-align: middle;\n",
              "    }\n",
              "\n",
              "    .dataframe tbody tr th {\n",
              "        vertical-align: top;\n",
              "    }\n",
              "\n",
              "    .dataframe thead th {\n",
              "        text-align: right;\n",
              "    }\n",
              "</style>\n",
              "<table border=\"1\" class=\"dataframe\">\n",
              "  <thead>\n",
              "    <tr style=\"text-align: right;\">\n",
              "      <th></th>\n",
              "      <th>imdb_id</th>\n",
              "      <th>title</th>\n",
              "      <th>popular_rank</th>\n",
              "      <th>certificate</th>\n",
              "      <th>startYear</th>\n",
              "      <th>endYear</th>\n",
              "      <th>episodes</th>\n",
              "      <th>runtime</th>\n",
              "      <th>type</th>\n",
              "      <th>orign_country</th>\n",
              "      <th>language</th>\n",
              "      <th>plot</th>\n",
              "      <th>summary</th>\n",
              "      <th>rating</th>\n",
              "      <th>numVotes</th>\n",
              "      <th>genres</th>\n",
              "      <th>isAdult</th>\n",
              "      <th>cast</th>\n",
              "      <th>image_url</th>\n",
              "    </tr>\n",
              "  </thead>\n",
              "  <tbody>\n",
              "    <tr>\n",
              "      <th>5647</th>\n",
              "      <td>tt1349646</td>\n",
              "      <td>Defcon 2012</td>\n",
              "      <td>5,698</td>\n",
              "      <td>NaN</td>\n",
              "      <td>2010.0</td>\n",
              "      <td>NaN</td>\n",
              "      <td>NaN</td>\n",
              "      <td>92.0</td>\n",
              "      <td>movie</td>\n",
              "      <td>United States</td>\n",
              "      <td>English</td>\n",
              "      <td>On October 30, 2009 an independent filmmaker a...</td>\n",
              "      <td>On October 30, 2009 an independent filmmaker a...</td>\n",
              "      <td>1.7</td>\n",
              "      <td>362.0</td>\n",
              "      <td>Sci-Fi</td>\n",
              "      <td>0</td>\n",
              "      <td>['Shy Pilgreen', 'Dan Gruenberg', 'Brian Neil ...</td>\n",
              "      <td>https://m.media-amazon.com/images/M/MV5BMTg2NT...</td>\n",
              "    </tr>\n",
              "  </tbody>\n",
              "</table>\n",
              "</div>\n",
              "      <button class=\"colab-df-convert\" onclick=\"convertToInteractive('df-99c6793a-86b0-474f-85d0-c4f717bf2445')\"\n",
              "              title=\"Convert this dataframe to an interactive table.\"\n",
              "              style=\"display:none;\">\n",
              "        \n",
              "  <svg xmlns=\"http://www.w3.org/2000/svg\" height=\"24px\"viewBox=\"0 0 24 24\"\n",
              "       width=\"24px\">\n",
              "    <path d=\"M0 0h24v24H0V0z\" fill=\"none\"/>\n",
              "    <path d=\"M18.56 5.44l.94 2.06.94-2.06 2.06-.94-2.06-.94-.94-2.06-.94 2.06-2.06.94zm-11 1L8.5 8.5l.94-2.06 2.06-.94-2.06-.94L8.5 2.5l-.94 2.06-2.06.94zm10 10l.94 2.06.94-2.06 2.06-.94-2.06-.94-.94-2.06-.94 2.06-2.06.94z\"/><path d=\"M17.41 7.96l-1.37-1.37c-.4-.4-.92-.59-1.43-.59-.52 0-1.04.2-1.43.59L10.3 9.45l-7.72 7.72c-.78.78-.78 2.05 0 2.83L4 21.41c.39.39.9.59 1.41.59.51 0 1.02-.2 1.41-.59l7.78-7.78 2.81-2.81c.8-.78.8-2.07 0-2.86zM5.41 20L4 18.59l7.72-7.72 1.47 1.35L5.41 20z\"/>\n",
              "  </svg>\n",
              "      </button>\n",
              "      \n",
              "  <style>\n",
              "    .colab-df-container {\n",
              "      display:flex;\n",
              "      flex-wrap:wrap;\n",
              "      gap: 12px;\n",
              "    }\n",
              "\n",
              "    .colab-df-convert {\n",
              "      background-color: #E8F0FE;\n",
              "      border: none;\n",
              "      border-radius: 50%;\n",
              "      cursor: pointer;\n",
              "      display: none;\n",
              "      fill: #1967D2;\n",
              "      height: 32px;\n",
              "      padding: 0 0 0 0;\n",
              "      width: 32px;\n",
              "    }\n",
              "\n",
              "    .colab-df-convert:hover {\n",
              "      background-color: #E2EBFA;\n",
              "      box-shadow: 0px 1px 2px rgba(60, 64, 67, 0.3), 0px 1px 3px 1px rgba(60, 64, 67, 0.15);\n",
              "      fill: #174EA6;\n",
              "    }\n",
              "\n",
              "    [theme=dark] .colab-df-convert {\n",
              "      background-color: #3B4455;\n",
              "      fill: #D2E3FC;\n",
              "    }\n",
              "\n",
              "    [theme=dark] .colab-df-convert:hover {\n",
              "      background-color: #434B5C;\n",
              "      box-shadow: 0px 1px 3px 1px rgba(0, 0, 0, 0.15);\n",
              "      filter: drop-shadow(0px 1px 2px rgba(0, 0, 0, 0.3));\n",
              "      fill: #FFFFFF;\n",
              "    }\n",
              "  </style>\n",
              "\n",
              "      <script>\n",
              "        const buttonEl =\n",
              "          document.querySelector('#df-99c6793a-86b0-474f-85d0-c4f717bf2445 button.colab-df-convert');\n",
              "        buttonEl.style.display =\n",
              "          google.colab.kernel.accessAllowed ? 'block' : 'none';\n",
              "\n",
              "        async function convertToInteractive(key) {\n",
              "          const element = document.querySelector('#df-99c6793a-86b0-474f-85d0-c4f717bf2445');\n",
              "          const dataTable =\n",
              "            await google.colab.kernel.invokeFunction('convertToInteractive',\n",
              "                                                     [key], {});\n",
              "          if (!dataTable) return;\n",
              "\n",
              "          const docLinkHtml = 'Like what you see? Visit the ' +\n",
              "            '<a target=\"_blank\" href=https://colab.research.google.com/notebooks/data_table.ipynb>data table notebook</a>'\n",
              "            + ' to learn more about interactive tables.';\n",
              "          element.innerHTML = '';\n",
              "          dataTable['output_type'] = 'display_data';\n",
              "          await google.colab.output.renderOutput(dataTable, element);\n",
              "          const docLink = document.createElement('div');\n",
              "          docLink.innerHTML = docLinkHtml;\n",
              "          element.appendChild(docLink);\n",
              "        }\n",
              "      </script>\n",
              "    </div>\n",
              "  </div>\n",
              "  "
            ]
          },
          "metadata": {},
          "execution_count": 21
        }
      ]
    },
    {
      "cell_type": "markdown",
      "source": [
        "# **Conclusion**"
      ],
      "metadata": {
        "id": "w9FLpzO3jO0b"
      }
    },
    {
      "cell_type": "markdown",
      "source": [
        "# Entonces... Cual es la pelicula perfecta de acuerdo al rating en NETFLIX? 🤔\n",
        "\n",
        "Deberia ser una pelicula de genero animada, drama o aventura que cuente con actores famosos (por ejemplo Tom Holland), que tenga una duracion media tendiendo a larga.\n"
      ],
      "metadata": {
        "id": "HMZ21UcchVBl"
      }
    }
  ]
}